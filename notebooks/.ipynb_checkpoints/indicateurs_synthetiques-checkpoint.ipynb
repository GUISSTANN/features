{
 "cells": [
  {
   "cell_type": "code",
   "execution_count": 1,
   "id": "3a48fb1b",
   "metadata": {},
   "outputs": [],
   "source": [
    "import warnings\n",
    "warnings.filterwarnings('ignore')\n",
    "\n",
    "import pandas as pd\n",
    "import random"
   ]
  },
  {
   "cell_type": "code",
   "execution_count": 2,
   "id": "3b13f3d5",
   "metadata": {},
   "outputs": [],
   "source": [
    "url_voixsmsoffnet = 'https://raw.githubusercontent.com/GUISSTANN/features/main/data/voix_sms/voix_sms_offnet.csv'\n",
    "url_voixsmsonnet = 'https://raw.githubusercontent.com/GUISSTANN/features/main/data/voix_sms/voix_sms_onnet.csv'\n",
    "\n",
    "\n",
    "df1 = pd.read_csv(url_voixsmsoffnet)\n",
    "df2 = pd.read_csv(url_voixsmsonnet)"
   ]
  },
  {
   "cell_type": "code",
   "execution_count": 3,
   "id": "6e31959f",
   "metadata": {},
   "outputs": [
    {
     "name": "stdout",
     "output_type": "stream",
     "text": [
      "df1: ['Unnamed: 0', 'traffic_type', 'traffic_direction', 'msisdn', 'call_date', 'call_time', 'duree', 'ms_location']\n",
      "df2: ['Unnamed: 0', 'traffic_type', 'traffic_direction', 'msisdn', 'call_date', 'call_time', 'duree', 'ms_location']\n",
      "df1.msisdn: 498\n",
      "df2.msisdn: 867\n",
      "df1.msisdn + df2.msisdn: 1365\n",
      "df1.shape: (1000, 8)\n",
      "df2.shape: (989, 8)\n"
     ]
    }
   ],
   "source": [
    "print('df1:', df1.columns.to_list())\n",
    "print('df2:', df2.columns.to_list())\n",
    "print('df1.msisdn:', len(df1.msisdn.unique()))\n",
    "print('df2.msisdn:', len(df2.msisdn.unique()))\n",
    "print('df1.msisdn + df2.msisdn:', len(df1.msisdn.unique()) + len(df2.msisdn.unique()))\n",
    "print('df1.shape:', df1.shape)\n",
    "print('df2.shape:', df2.shape)"
   ]
  },
  {
   "cell_type": "code",
   "execution_count": 4,
   "id": "d2d05836",
   "metadata": {},
   "outputs": [
    {
     "data": {
      "text/plain": [
       "0"
      ]
     },
     "execution_count": 4,
     "metadata": {},
     "output_type": "execute_result"
    }
   ],
   "source": [
    "# Verifier les identifiants communs entre df1 et df2\n",
    "\n",
    "set1 = set(df1.msisdn)\n",
    "set2 = set(df2.msisdn)\n",
    "\n",
    "common_values = set1.intersection(set2)\n",
    "len(common_values)"
   ]
  },
  {
   "cell_type": "code",
   "execution_count": 5,
   "id": "b2472757",
   "metadata": {},
   "outputs": [],
   "source": [
    "# Taille de la base\n",
    "\n",
    "list_id = list(df1.msisdn.unique()) + list(df2.msisdn.unique())\n",
    "taille_base = len(list_id)"
   ]
  },
  {
   "cell_type": "markdown",
   "id": "4bced83b",
   "metadata": {},
   "source": [
    "# Generer des indicateurs au hasard"
   ]
  },
  {
   "cell_type": "code",
   "execution_count": 6,
   "id": "594e945d",
   "metadata": {},
   "outputs": [],
   "source": [
    "indicateur_quanti = ['Age', 'Score_privation', 'Score_handicap']\n",
    "indicateur_quali = ['Privation_eau', 'Privation_electricite', \n",
    "                    'Privation_communication', 'Handicap_visuel', \n",
    "                    'Hnadicap_auditif', 'Handicap_moteur']"
   ]
  },
  {
   "cell_type": "code",
   "execution_count": 7,
   "id": "c073206c",
   "metadata": {},
   "outputs": [],
   "source": [
    "list_age = list(range(18,90))"
   ]
  },
  {
   "cell_type": "code",
   "execution_count": 8,
   "id": "7c9bc4d4",
   "metadata": {},
   "outputs": [
    {
     "data": {
      "text/html": [
       "<div>\n",
       "<style scoped>\n",
       "    .dataframe tbody tr th:only-of-type {\n",
       "        vertical-align: middle;\n",
       "    }\n",
       "\n",
       "    .dataframe tbody tr th {\n",
       "        vertical-align: top;\n",
       "    }\n",
       "\n",
       "    .dataframe thead th {\n",
       "        text-align: right;\n",
       "    }\n",
       "</style>\n",
       "<table border=\"1\" class=\"dataframe\">\n",
       "  <thead>\n",
       "    <tr style=\"text-align: right;\">\n",
       "      <th></th>\n",
       "      <th>ID_CM</th>\n",
       "      <th>Age_CM</th>\n",
       "      <th>Niveau_educ</th>\n",
       "      <th>Privation_eau</th>\n",
       "      <th>Privation_electricite</th>\n",
       "      <th>Privation_communication</th>\n",
       "      <th>Handicap_visuel</th>\n",
       "      <th>Hnadicap_auditif</th>\n",
       "      <th>Handicap_moteur</th>\n",
       "    </tr>\n",
       "  </thead>\n",
       "  <tbody>\n",
       "    <tr>\n",
       "      <th>0</th>\n",
       "      <td>d65862c2b2c34aefb070a708718426b3</td>\n",
       "      <td>32</td>\n",
       "      <td>5</td>\n",
       "      <td>1</td>\n",
       "      <td>0</td>\n",
       "      <td>1</td>\n",
       "      <td>0</td>\n",
       "      <td>1</td>\n",
       "      <td>1</td>\n",
       "    </tr>\n",
       "    <tr>\n",
       "      <th>1</th>\n",
       "      <td>5757c99a52d73d9b3e563a0046add2ee</td>\n",
       "      <td>21</td>\n",
       "      <td>5</td>\n",
       "      <td>0</td>\n",
       "      <td>1</td>\n",
       "      <td>1</td>\n",
       "      <td>1</td>\n",
       "      <td>1</td>\n",
       "      <td>0</td>\n",
       "    </tr>\n",
       "    <tr>\n",
       "      <th>2</th>\n",
       "      <td>ed36b9182948943432386fa422a084b1</td>\n",
       "      <td>53</td>\n",
       "      <td>1</td>\n",
       "      <td>0</td>\n",
       "      <td>0</td>\n",
       "      <td>0</td>\n",
       "      <td>1</td>\n",
       "      <td>1</td>\n",
       "      <td>0</td>\n",
       "    </tr>\n",
       "    <tr>\n",
       "      <th>3</th>\n",
       "      <td>bdc6d7893af482720b45eb6258f07fd3</td>\n",
       "      <td>49</td>\n",
       "      <td>1</td>\n",
       "      <td>1</td>\n",
       "      <td>1</td>\n",
       "      <td>0</td>\n",
       "      <td>0</td>\n",
       "      <td>1</td>\n",
       "      <td>1</td>\n",
       "    </tr>\n",
       "    <tr>\n",
       "      <th>4</th>\n",
       "      <td>fe090e5a588ca62bdbff8e807d04e475</td>\n",
       "      <td>46</td>\n",
       "      <td>0</td>\n",
       "      <td>1</td>\n",
       "      <td>0</td>\n",
       "      <td>0</td>\n",
       "      <td>1</td>\n",
       "      <td>0</td>\n",
       "      <td>1</td>\n",
       "    </tr>\n",
       "  </tbody>\n",
       "</table>\n",
       "</div>"
      ],
      "text/plain": [
       "                              ID_CM  Age_CM  Niveau_educ  Privation_eau  \\\n",
       "0  d65862c2b2c34aefb070a708718426b3      32            5              1   \n",
       "1  5757c99a52d73d9b3e563a0046add2ee      21            5              0   \n",
       "2  ed36b9182948943432386fa422a084b1      53            1              0   \n",
       "3  bdc6d7893af482720b45eb6258f07fd3      49            1              1   \n",
       "4  fe090e5a588ca62bdbff8e807d04e475      46            0              1   \n",
       "\n",
       "   Privation_electricite  Privation_communication  Handicap_visuel  \\\n",
       "0                      0                        1                0   \n",
       "1                      1                        1                1   \n",
       "2                      0                        0                1   \n",
       "3                      1                        0                0   \n",
       "4                      0                        0                1   \n",
       "\n",
       "   Hnadicap_auditif  Handicap_moteur  \n",
       "0                 1                1  \n",
       "1                 1                0  \n",
       "2                 1                0  \n",
       "3                 1                1  \n",
       "4                 0                1  "
      ]
     },
     "execution_count": 8,
     "metadata": {},
     "output_type": "execute_result"
    }
   ],
   "source": [
    "random.seed(42)\n",
    "\n",
    "data_dict = {\n",
    "    'ID_CM': list_id,\n",
    "    'Age_CM': [random.choice(list_age) for i in range(taille_base)],\n",
    "    'Niveau_educ': [random.choice([0, 1, 2, 3, 4, 5]) for i in range(taille_base)],\n",
    "    'Privation_eau': [random.choice([0,1]) for i in range(taille_base)], \n",
    "    'Privation_electricite': [random.choice([0,1]) for i in range(taille_base)],\n",
    "    'Privation_communication': [random.choice([0,1]) for i in range(taille_base)], \n",
    "    'Handicap_visuel': [random.choice([0,1]) for i in range(taille_base)], \n",
    "    'Hnadicap_auditif': [random.choice([0,1]) for i in range(taille_base)], \n",
    "    'Handicap_moteur': [random.choice([0,1]) for i in range(taille_base)], \n",
    "    'Alphabetisation_CM': [random.choice([0,1]) for i in range(taille_base)], \n",
    "    'Frequentation_scolaire_CM': [random.choice([0,1]) for i in range(taille_base)], \n",
    "    'Formation_professionnelle_CM': [random.choice([0,1]) for i in range(taille_base)], \n",
    "    'Mais': [random.choice([0,1]) for i in range(taille_base)], \n",
    "    'Riz': [random.choice([0,1]) for i in range(taille_base)], \n",
    "    'Sorgho': [random.choice([0,1]) for i in range(taille_base)], \n",
    "    'Fonio': [random.choice([0,1]) for i in range(taille_base)], \n",
    "    'Mil': [random.choice([0,1]) for i in range(taille_base)], \n",
    "    'Aubergine_amere': [random.choice([0,1]) for i in range(taille_base)], \n",
    "    'Aubergine_douce': [random.choice([0,1]) for i in range(taille_base)], \n",
    "    'Chou': [random.choice([0,1]) for i in range(taille_base)], \n",
    "    'Gombo': [random.choice([0,1]) for i in range(taille_base)], \n",
    "    'Piment': [random.choice([0,1]) for i in range(taille_base)], \n",
    "    'Carotte': [random.choice([0,1]) for i in range(taille_base)], \n",
    "    'Navet': [random.choice([0,1]) for i in range(taille_base)], \n",
    "    'Concombre': [random.choice([0,1]) for i in range(taille_base)], \n",
    "    'Laitue_salade': [random.choice([0,1]) for i in range(taille_base)], \n",
    "    'Culture_pluviale': [random.choice([0,1]) for i in range(taille_base)], \n",
    "    'Elevage': [random.choice([0,1]) for i in range(taille_base)], \n",
    "    'Culture_maraichere': [random.choice([0,1]) for i in range(taille_base)], \n",
    "    'Arboriculture_fruitiere': [random.choice([0,1]) for i in range(taille_base)], \n",
    "    'Peche_aquaculture': [random.choice([0,1]) for i in range(taille_base)], \n",
    "    'Annees_etudes': [random.choice(list(range(1,25))) for i in range(taille_base)], \n",
    "    'Frequentation_scolaire_des_enfants': [random.choice([0, 1, 2]) for i in range(taille_base)], \n",
    "    'Subsistance': [random.choice([0,1]) for i in range(taille_base)], \n",
    "    'Malade': [random.choice([0,1]) for i in range(taille_base)], \n",
    "    'Combustible_cuisson': [random.choice([1, 2, 3, 4, 5, 9]) for i in range(taille_base)], \n",
    "    'Assainissement': [random.choice(['11', '12', '21', '22', '23', '31', '41', '51', '99']) for i in range(taille_base)], \n",
    "    'Eau': [random.choice(['01', '02', '03', '04', '05', '06', '07', '08', '09', '10', '11', '99']) for i in range(taille_base)], \n",
    "    'Electricite': [random.choice(['01', '02', '03', '04', '05', '06', '07', '08', '09', '99']) for i in range(taille_base)], \n",
    "    'Sol': [random.choice(['01', '02', '03', '04', '05', '06', '07', '08', '09', '10', '11', '99']) for i in range(taille_base)], \n",
    "    'Biens': [random.choice(list(range(0,35))) for i in range(taille_base)], \n",
    "    'Logement': [random.choice(list(range(1,10))) for i in range(taille_base)], \n",
    "    'Acces_eau_e10': [random.choice(['11', '12', '13', '14', '31', '32', '41', '42', '51', '61', '71', '81']) for i in range(taille_base)], \n",
    "    'Toilettes_e08a': [random.choice(['11', '12', '21', '22', '23', '31', '41', '51', '99']) for i in range(taille_base)], \n",
    "    'Toilettes_e08b': [random.choice([0,1]) for i in range(taille_base)]\n",
    "}\n",
    "\n",
    "donnees = pd.DataFrame(data_dict)\n",
    "donnees.head()"
   ]
  },
  {
   "cell_type": "code",
   "execution_count": 9,
   "id": "002952d6",
   "metadata": {},
   "outputs": [
    {
     "data": {
      "text/plain": [
       "Score_privation\n",
       "0.333333    523\n",
       "0.666667    513\n",
       "1.000000    166\n",
       "0.000000    163\n",
       "Name: count, dtype: int64"
      ]
     },
     "execution_count": 9,
     "metadata": {},
     "output_type": "execute_result"
    }
   ],
   "source": [
    "donnees['Score_privation'] = donnees[['Privation_eau', 'Privation_electricite', 'Privation_communication']].mean(axis=1)\n",
    "donnees['Score_privation'].value_counts()"
   ]
  },
  {
   "cell_type": "code",
   "execution_count": 10,
   "id": "d199234e",
   "metadata": {},
   "outputs": [
    {
     "data": {
      "text/plain": [
       "Score_handicap\n",
       "0.666667    550\n",
       "0.333333    490\n",
       "0.000000    178\n",
       "1.000000    147\n",
       "Name: count, dtype: int64"
      ]
     },
     "execution_count": 10,
     "metadata": {},
     "output_type": "execute_result"
    }
   ],
   "source": [
    "donnees['Score_handicap'] = donnees[['Handicap_visuel', 'Hnadicap_auditif', 'Handicap_moteur']].mean(axis=1)\n",
    "donnees['Score_handicap'].value_counts()"
   ]
  },
  {
   "cell_type": "code",
   "execution_count": 11,
   "id": "0d10a15c",
   "metadata": {},
   "outputs": [
    {
     "data": {
      "text/plain": [
       "(1000, 11)"
      ]
     },
     "execution_count": 11,
     "metadata": {},
     "output_type": "execute_result"
    }
   ],
   "source": [
    "# Garder 1000 CM\n",
    "\n",
    "donnees = donnees.iloc[:1000, :]\n",
    "donnees.shape"
   ]
  },
  {
   "cell_type": "code",
   "execution_count": 12,
   "id": "955c8844",
   "metadata": {},
   "outputs": [],
   "source": [
    "donnees.to_csv('../data/indicateurs_synthetiques.csv')"
   ]
  },
  {
   "cell_type": "code",
   "execution_count": null,
   "id": "61a1605e",
   "metadata": {},
   "outputs": [],
   "source": []
  },
  {
   "cell_type": "code",
   "execution_count": null,
   "id": "a3ec8692",
   "metadata": {},
   "outputs": [],
   "source": []
  },
  {
   "cell_type": "code",
   "execution_count": null,
   "id": "c33a0ddb",
   "metadata": {},
   "outputs": [],
   "source": []
  }
 ],
 "metadata": {
  "kernelspec": {
   "display_name": "Python 3 (ipykernel)",
   "language": "python",
   "name": "python3"
  },
  "language_info": {
   "codemirror_mode": {
    "name": "ipython",
    "version": 3
   },
   "file_extension": ".py",
   "mimetype": "text/x-python",
   "name": "python",
   "nbconvert_exporter": "python",
   "pygments_lexer": "ipython3",
   "version": "3.9.13"
  }
 },
 "nbformat": 4,
 "nbformat_minor": 5
}
