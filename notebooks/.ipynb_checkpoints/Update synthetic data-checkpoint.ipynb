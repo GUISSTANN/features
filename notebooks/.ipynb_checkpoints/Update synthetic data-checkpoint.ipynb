{
 "cells": [
  {
   "cell_type": "code",
   "execution_count": 1,
   "id": "b9cedccc",
   "metadata": {},
   "outputs": [],
   "source": [
    "import warnings\n",
    "warnings.filterwarnings('ignore')\n",
    "\n",
    "import pandas as pd"
   ]
  },
  {
   "cell_type": "markdown",
   "id": "0082710f",
   "metadata": {},
   "source": [
    "# Donnees synthetiques github\n",
    "Du 01-Mai-2024"
   ]
  },
  {
   "cell_type": "code",
   "execution_count": 2,
   "id": "de5cafbb",
   "metadata": {},
   "outputs": [],
   "source": [
    "url_antennes = 'https://raw.githubusercontent.com/GUISSTANN/features/main/data/antennes/antennes.csv'\n",
    "url_mobile = 'https://raw.githubusercontent.com/GUISSTANN/features/main/data/data_mobile/data.csv'\n",
    "url_recharges = 'https://raw.githubusercontent.com/GUISSTANN/features/main/data/recharges/recharges.csv'\n",
    "url_transaction = 'https://raw.githubusercontent.com/GUISSTANN/features/main/data/transactions/om.csv'\n",
    "url_voixsmsoffnet = 'https://raw.githubusercontent.com/GUISSTANN/features/main/data/voix_sms/voix_sms_offnet.csv'\n",
    "url_voixsmsonnet = 'https://raw.githubusercontent.com/GUISSTANN/features/main/data/voix_sms/voix_sms_onnet.csv'\n",
    "\n",
    "list_lien = [url_antennes, url_mobile, url_recharges, url_transaction, url_voixsmsoffnet, url_voixsmsonnet]\n",
    "list_donnees = ['Antennes', 'Mobile Data', 'Recharges', 'Transactions', 'Voix SMS Off Net', 'Voix SMS On Net']"
   ]
  },
  {
   "cell_type": "code",
   "execution_count": 3,
   "id": "73aafccc",
   "metadata": {},
   "outputs": [
    {
     "name": "stdout",
     "output_type": "stream",
     "text": [
      "==================================================\n",
      "Antennes\n",
      "Antennes : (1000, 5)\n",
      "   Unnamed: 0         ms_location   latitude  longitude  \\\n",
      "0         521  608-01-19082-00011  14.848686 -15.847600   \n",
      "1         737  608-01-03012-30391  14.515319 -16.942597   \n",
      "2         740  608-01-03012-41877  14.426692 -16.994680   \n",
      "3         660  608-01-00818-00001  16.028762 -16.508092   \n",
      "4         411  608-01-09022-43213  13.124078 -13.680762   \n",
      "\n",
      "                              localite  \n",
      "0                NDAME/MBACKE/DIOURBEL  \n",
      "1                   SINDIA/MBOUR/THIES  \n",
      "2            SALY PORTUDAL/MBOUR/THIES  \n",
      "3  SAINT LOUIS/SAINT LOUIS/SAINT-LOUIS  \n",
      "4             BONCONTO/VELINGARA/KOLDA  \n",
      "\n",
      "\n",
      "\n",
      "==================================================\n",
      "Mobile Data\n",
      "Mobile Data : (1000, 6)\n",
      "   Unnamed: 0     volume                            msisdn  \\\n",
      "0         521  11.020743  58982635729b45727700229a70ae85e5   \n",
      "1         737   0.027277  b8b9dc654da68fc4a748d3df03a7046a   \n",
      "2         740   0.000000  31a3fa5ccc585b9d2be69569b69e76b9   \n",
      "3         660   0.000000  3fe68455383e037e757db7873979989c   \n",
      "4         411   0.093000  15a5bf5eb2e4effcaea6a3ab479dc30f   \n",
      "\n",
      "          ms_location  call_date  call_time  \n",
      "0  608-01-00354-00010   20211118     170023  \n",
      "1  608-01-09040-24955   20211118      62353  \n",
      "2  608-01-00983-00001   20211118     140528  \n",
      "3  608-01-01092-00006   20211118     192427  \n",
      "4  608-01-00061-00006   20211118     160516  \n",
      "\n",
      "\n",
      "\n",
      "==================================================\n",
      "Recharges\n",
      "Recharges : (1000, 6)\n",
      "   Unnamed: 0      type_rechargement                            msisdn  \\\n",
      "0         521        Recharge via OM  cf506ba2da0950fbf04bc219ab1277f1   \n",
      "1         737     Recharge via Seddo  a717dc521f7c6ec14947cf61b0701560   \n",
      "2         740        Recharge via OM  fb74722dd297a8c159f248cfd5e5c5f1   \n",
      "3         660  Pass Glob via OM Jour  db83248589b0b4895d3f040a77a01d9a   \n",
      "4         411     Recharge via Seddo  d1482d831cd8d2e3ece1ceb9f9fb5e6e   \n",
      "\n",
      "   call_event_date  cost                      localite  \n",
      "0         20220226    50        OUROSSOGUI/MATAM/MATAM  \n",
      "1         20220219  1500     DAKAR PLATEAU/DAKAR/DAKAR  \n",
      "2         20220124  5000       GRAND DAKAR/DAKAR/DAKAR  \n",
      "3         20210908  2000     DAKAR PLATEAU/DAKAR/DAKAR  \n",
      "4         20211210  2000  BANDAFASSI/KEDOUGOU/KEDOUGOU  \n",
      "\n",
      "\n",
      "\n",
      "==================================================\n",
      "Transactions\n",
      "Transactions : (1000, 7)\n",
      "   Unnamed: 0 direction                            msisdn  transfer_date  \\\n",
      "0         521       OUT  698af5af25e435f0b0b129397d2d9b58       20220321   \n",
      "1         737        IN  7629afa5c8148d6ab12998041bfa46de       20220403   \n",
      "2         740        IN  683f8b2f9b3f00f44709fa4a43287db4       20210804   \n",
      "3         660       OUT  c44f01179a6816b7ee5acba21f0e2880       20220309   \n",
      "4         411       OUT  d18f615efcf8fa7ccd192d812f76f9b2       20220102   \n",
      "\n",
      "   transfer_time  transaction_amount                      localite  \n",
      "0         224508              5000.0  BANDAFASSI/KEDOUGOU/KEDOUGOU  \n",
      "1         153342               500.0       KAOLACK/KAOLACK/KAOLACK  \n",
      "2          92520             10100.0                           NaN  \n",
      "3         104632             10000.0         THIAROYE/PIKINE/DAKAR  \n",
      "4         142126              4500.0         THIAROYE/PIKINE/DAKAR  \n",
      "\n",
      "\n",
      "\n",
      "==================================================\n",
      "Voix SMS Off Net\n",
      "Voix SMS Off Net : (1000, 8)\n",
      "   Unnamed: 0 traffic_type traffic_direction  \\\n",
      "0         521         VOIX           ENTRANT   \n",
      "1         737         VOIX           SORTANT   \n",
      "2         740         VOIX           SORTANT   \n",
      "3         660         VOIX           SORTANT   \n",
      "4         411         VOIX           SORTANT   \n",
      "\n",
      "                             msisdn  call_date  call_time  duree  ms_location  \n",
      "0  d65862c2b2c34aefb070a708718426b3   20210831     155425   35.0          NaN  \n",
      "1  5757c99a52d73d9b3e563a0046add2ee   20210927      84858  105.0          NaN  \n",
      "2  ed36b9182948943432386fa422a084b1   20210927      93346  110.0          NaN  \n",
      "3  bdc6d7893af482720b45eb6258f07fd3   20210924     105042   21.0          NaN  \n",
      "4  fe090e5a588ca62bdbff8e807d04e475   20210816     125249  138.0          NaN  \n",
      "\n",
      "\n",
      "\n",
      "==================================================\n",
      "Voix SMS On Net\n",
      "Voix SMS On Net : (1000, 8)\n",
      "   Unnamed: 0 traffic_type traffic_direction  \\\n",
      "0         521         VOIX           SORTANT   \n",
      "1         737         VOIX           ENTRANT   \n",
      "2         740         VOIX           ENTRANT   \n",
      "3         660         VOIX           SORTANT   \n",
      "4         411         VOIX           ENTRANT   \n",
      "\n",
      "                             msisdn  call_date  call_time  duree  \\\n",
      "0  5634d3960f5dbf326b2eb01e1cf66124   20210720     180146  182.0   \n",
      "1  a0c8f562a4abc89230b30a30409f69bc   20210720      72925  116.0   \n",
      "2  86b09e4ed3f30d94853e413451f1a69b   20210720     103649   39.0   \n",
      "3  b58b587be09e5c1963bf4deba19597cc   20210720     213222    2.0   \n",
      "4  907d1610586c9337c2b19b00eca3bc79   20210720     230420  287.0   \n",
      "\n",
      "          ms_location  \n",
      "0  608-01-09020-30101  \n",
      "1  608-01-09040-25025  \n",
      "2  608-01-09028-02017  \n",
      "3  608-01-09000-36753  \n",
      "4  608-01-09000-03947  \n",
      "\n",
      "\n",
      "\n"
     ]
    }
   ],
   "source": [
    "# Overview\n",
    "\n",
    "for base, lien in zip(list_donnees, list_lien):\n",
    "    print('='*50)\n",
    "    print(base)\n",
    "    df = pd.read_csv(lien)\n",
    "    print(base, ':', df.shape)\n",
    "    print(df.head())\n",
    "    print('\\n'*2)"
   ]
  },
  {
   "cell_type": "markdown",
   "id": "ffed644f",
   "metadata": {},
   "source": [
    "# Mise a jour\n",
    "Date: 01-Mai-2024"
   ]
  },
  {
   "cell_type": "code",
   "execution_count": 4,
   "id": "42b4387d",
   "metadata": {},
   "outputs": [
    {
     "name": "stdout",
     "output_type": "stream",
     "text": [
      "<class 'pandas.core.frame.DataFrame'>\n",
      "RangeIndex: 1000 entries, 0 to 999\n",
      "Data columns (total 6 columns):\n",
      " #   Column       Non-Null Count  Dtype  \n",
      "---  ------       --------------  -----  \n",
      " 0   Unnamed: 0   1000 non-null   int64  \n",
      " 1   volume       1000 non-null   float64\n",
      " 2   msisdn       1000 non-null   object \n",
      " 3   ms_location  1000 non-null   object \n",
      " 4   call_date    1000 non-null   int64  \n",
      " 5   call_time    1000 non-null   int64  \n",
      "dtypes: float64(1), int64(3), object(2)\n",
      "memory usage: 47.0+ KB\n"
     ]
    }
   ],
   "source": [
    "# Mobile Data\n",
    "df = pd.read_csv(url_mobile)\n",
    "df.info()"
   ]
  },
  {
   "cell_type": "markdown",
   "id": "672fb80d",
   "metadata": {},
   "source": [
    "**Decision :** Structure conforme!"
   ]
  },
  {
   "cell_type": "code",
   "execution_count": 5,
   "id": "8709b3f5",
   "metadata": {},
   "outputs": [
    {
     "name": "stdout",
     "output_type": "stream",
     "text": [
      "<class 'pandas.core.frame.DataFrame'>\n",
      "RangeIndex: 1000 entries, 0 to 999\n",
      "Data columns (total 6 columns):\n",
      " #   Column             Non-Null Count  Dtype \n",
      "---  ------             --------------  ----- \n",
      " 0   Unnamed: 0         1000 non-null   int64 \n",
      " 1   type_rechargement  1000 non-null   object\n",
      " 2   msisdn             1000 non-null   object\n",
      " 3   call_event_date    1000 non-null   int64 \n",
      " 4   cost               1000 non-null   int64 \n",
      " 5   localite           1000 non-null   object\n",
      "dtypes: int64(3), object(3)\n",
      "memory usage: 47.0+ KB\n"
     ]
    }
   ],
   "source": [
    "# Recharges\n",
    "df = pd.read_csv(url_recharges)\n",
    "df.info()"
   ]
  },
  {
   "cell_type": "markdown",
   "id": "5b578b6f",
   "metadata": {},
   "source": [
    "**Decision :** Structure conforme!"
   ]
  },
  {
   "cell_type": "code",
   "execution_count": 6,
   "id": "36951792",
   "metadata": {},
   "outputs": [
    {
     "name": "stdout",
     "output_type": "stream",
     "text": [
      "<class 'pandas.core.frame.DataFrame'>\n",
      "RangeIndex: 1000 entries, 0 to 999\n",
      "Data columns (total 7 columns):\n",
      " #   Column              Non-Null Count  Dtype  \n",
      "---  ------              --------------  -----  \n",
      " 0   Unnamed: 0          1000 non-null   int64  \n",
      " 1   direction           1000 non-null   object \n",
      " 2   msisdn              1000 non-null   object \n",
      " 3   transfer_date       1000 non-null   int64  \n",
      " 4   transfer_time       1000 non-null   int64  \n",
      " 5   transaction_amount  1000 non-null   float64\n",
      " 6   localite            681 non-null    object \n",
      "dtypes: float64(1), int64(3), object(3)\n",
      "memory usage: 54.8+ KB\n"
     ]
    }
   ],
   "source": [
    "# Transactions\n",
    "df = pd.read_csv(url_transaction)\n",
    "df.info()"
   ]
  },
  {
   "cell_type": "markdown",
   "id": "d5e208f3",
   "metadata": {},
   "source": [
    "**Decision :** create caller_msisdn and corresp_msisdn and drop msisdn"
   ]
  },
  {
   "cell_type": "code",
   "execution_count": 7,
   "id": "ac51a1a0",
   "metadata": {},
   "outputs": [
    {
     "name": "stdout",
     "output_type": "stream",
     "text": [
      "<class 'pandas.core.frame.DataFrame'>\n",
      "RangeIndex: 1000 entries, 0 to 999\n",
      "Data columns (total 8 columns):\n",
      " #   Column              Non-Null Count  Dtype  \n",
      "---  ------              --------------  -----  \n",
      " 0   Unnamed: 0          1000 non-null   int64  \n",
      " 1   direction           1000 non-null   object \n",
      " 2   transfer_date       1000 non-null   int64  \n",
      " 3   transfer_time       1000 non-null   int64  \n",
      " 4   transaction_amount  1000 non-null   float64\n",
      " 5   localite            681 non-null    object \n",
      " 6   caller_msisdn       1000 non-null   object \n",
      " 7   corresp_msisdn      1000 non-null   object \n",
      "dtypes: float64(1), int64(3), object(4)\n",
      "memory usage: 62.6+ KB\n"
     ]
    }
   ],
   "source": [
    "df['caller_msisdn'] = df['msisdn']\n",
    "df['corresp_msisdn'] = df['msisdn'].sample(frac=1).reset_index(drop=True) # Shuffle initial id\n",
    "df.drop(columns='msisdn', inplace=True)\n",
    "df.info()"
   ]
  },
  {
   "cell_type": "code",
   "execution_count": 8,
   "id": "ff383c98",
   "metadata": {},
   "outputs": [],
   "source": [
    "df.to_csv('../data/transactions/omv-v02.csv')"
   ]
  },
  {
   "cell_type": "code",
   "execution_count": 9,
   "id": "ed4d027e",
   "metadata": {},
   "outputs": [
    {
     "data": {
      "text/html": [
       "<div>\n",
       "<style scoped>\n",
       "    .dataframe tbody tr th:only-of-type {\n",
       "        vertical-align: middle;\n",
       "    }\n",
       "\n",
       "    .dataframe tbody tr th {\n",
       "        vertical-align: top;\n",
       "    }\n",
       "\n",
       "    .dataframe thead th {\n",
       "        text-align: right;\n",
       "    }\n",
       "</style>\n",
       "<table border=\"1\" class=\"dataframe\">\n",
       "  <thead>\n",
       "    <tr style=\"text-align: right;\">\n",
       "      <th></th>\n",
       "      <th>Unnamed: 0</th>\n",
       "      <th>direction</th>\n",
       "      <th>transfer_date</th>\n",
       "      <th>transfer_time</th>\n",
       "      <th>transaction_amount</th>\n",
       "      <th>localite</th>\n",
       "      <th>caller_msisdn</th>\n",
       "      <th>corresp_msisdn</th>\n",
       "    </tr>\n",
       "  </thead>\n",
       "  <tbody>\n",
       "    <tr>\n",
       "      <th>0</th>\n",
       "      <td>521</td>\n",
       "      <td>OUT</td>\n",
       "      <td>20220321</td>\n",
       "      <td>224508</td>\n",
       "      <td>5000.0</td>\n",
       "      <td>BANDAFASSI/KEDOUGOU/KEDOUGOU</td>\n",
       "      <td>698af5af25e435f0b0b129397d2d9b58</td>\n",
       "      <td>b5333738f975f816fe2fc6013299b602</td>\n",
       "    </tr>\n",
       "    <tr>\n",
       "      <th>1</th>\n",
       "      <td>737</td>\n",
       "      <td>IN</td>\n",
       "      <td>20220403</td>\n",
       "      <td>153342</td>\n",
       "      <td>500.0</td>\n",
       "      <td>KAOLACK/KAOLACK/KAOLACK</td>\n",
       "      <td>7629afa5c8148d6ab12998041bfa46de</td>\n",
       "      <td>ebd8a25f41ac9f21760a47a37483f385</td>\n",
       "    </tr>\n",
       "    <tr>\n",
       "      <th>2</th>\n",
       "      <td>740</td>\n",
       "      <td>IN</td>\n",
       "      <td>20210804</td>\n",
       "      <td>92520</td>\n",
       "      <td>10100.0</td>\n",
       "      <td>NaN</td>\n",
       "      <td>683f8b2f9b3f00f44709fa4a43287db4</td>\n",
       "      <td>b612c12c1a2fa9091b1e890e2c0cc78b</td>\n",
       "    </tr>\n",
       "    <tr>\n",
       "      <th>3</th>\n",
       "      <td>660</td>\n",
       "      <td>OUT</td>\n",
       "      <td>20220309</td>\n",
       "      <td>104632</td>\n",
       "      <td>10000.0</td>\n",
       "      <td>THIAROYE/PIKINE/DAKAR</td>\n",
       "      <td>c44f01179a6816b7ee5acba21f0e2880</td>\n",
       "      <td>fc19e9a07fca9ee95b82e18dbac0f8d7</td>\n",
       "    </tr>\n",
       "    <tr>\n",
       "      <th>4</th>\n",
       "      <td>411</td>\n",
       "      <td>OUT</td>\n",
       "      <td>20220102</td>\n",
       "      <td>142126</td>\n",
       "      <td>4500.0</td>\n",
       "      <td>THIAROYE/PIKINE/DAKAR</td>\n",
       "      <td>d18f615efcf8fa7ccd192d812f76f9b2</td>\n",
       "      <td>c6769dc085151b9e7e873f39561fc4cf</td>\n",
       "    </tr>\n",
       "  </tbody>\n",
       "</table>\n",
       "</div>"
      ],
      "text/plain": [
       "   Unnamed: 0 direction  transfer_date  transfer_time  transaction_amount  \\\n",
       "0         521       OUT       20220321         224508              5000.0   \n",
       "1         737        IN       20220403         153342               500.0   \n",
       "2         740        IN       20210804          92520             10100.0   \n",
       "3         660       OUT       20220309         104632             10000.0   \n",
       "4         411       OUT       20220102         142126              4500.0   \n",
       "\n",
       "                       localite                     caller_msisdn  \\\n",
       "0  BANDAFASSI/KEDOUGOU/KEDOUGOU  698af5af25e435f0b0b129397d2d9b58   \n",
       "1       KAOLACK/KAOLACK/KAOLACK  7629afa5c8148d6ab12998041bfa46de   \n",
       "2                           NaN  683f8b2f9b3f00f44709fa4a43287db4   \n",
       "3         THIAROYE/PIKINE/DAKAR  c44f01179a6816b7ee5acba21f0e2880   \n",
       "4         THIAROYE/PIKINE/DAKAR  d18f615efcf8fa7ccd192d812f76f9b2   \n",
       "\n",
       "                     corresp_msisdn  \n",
       "0  b5333738f975f816fe2fc6013299b602  \n",
       "1  ebd8a25f41ac9f21760a47a37483f385  \n",
       "2  b612c12c1a2fa9091b1e890e2c0cc78b  \n",
       "3  fc19e9a07fca9ee95b82e18dbac0f8d7  \n",
       "4  c6769dc085151b9e7e873f39561fc4cf  "
      ]
     },
     "execution_count": 9,
     "metadata": {},
     "output_type": "execute_result"
    }
   ],
   "source": [
    "df.head()"
   ]
  },
  {
   "cell_type": "code",
   "execution_count": 10,
   "id": "0efe9a63",
   "metadata": {},
   "outputs": [
    {
     "name": "stdout",
     "output_type": "stream",
     "text": [
      "<class 'pandas.core.frame.DataFrame'>\n",
      "RangeIndex: 1000 entries, 0 to 999\n",
      "Data columns (total 8 columns):\n",
      " #   Column             Non-Null Count  Dtype  \n",
      "---  ------             --------------  -----  \n",
      " 0   Unnamed: 0         1000 non-null   int64  \n",
      " 1   traffic_type       1000 non-null   object \n",
      " 2   traffic_direction  1000 non-null   object \n",
      " 3   msisdn             1000 non-null   object \n",
      " 4   call_date          1000 non-null   int64  \n",
      " 5   call_time          1000 non-null   int64  \n",
      " 6   duree              1000 non-null   float64\n",
      " 7   ms_location        0 non-null      float64\n",
      "dtypes: float64(2), int64(3), object(3)\n",
      "memory usage: 62.6+ KB\n"
     ]
    }
   ],
   "source": [
    "# Voix SMS\n",
    "df = pd.read_csv(url_voixsmsoffnet)\n",
    "df.info()"
   ]
  },
  {
   "cell_type": "markdown",
   "id": "350f9ffc",
   "metadata": {},
   "source": [
    "**Decision :** create the voixsms.csv structure from the VM-SONATEL"
   ]
  },
  {
   "cell_type": "code",
   "execution_count": 11,
   "id": "268efc95",
   "metadata": {},
   "outputs": [
    {
     "name": "stdout",
     "output_type": "stream",
     "text": [
      "<class 'pandas.core.frame.DataFrame'>\n",
      "RangeIndex: 1000 entries, 0 to 999\n",
      "Data columns (total 9 columns):\n",
      " #   Column             Non-Null Count  Dtype  \n",
      "---  ------             --------------  -----  \n",
      " 0   Unnamed: 0         1000 non-null   int64  \n",
      " 1   traffic_type       1000 non-null   object \n",
      " 2   traffic_direction  1000 non-null   object \n",
      " 3   call_date          1000 non-null   int64  \n",
      " 4   call_time          1000 non-null   int64  \n",
      " 5   duree              1000 non-null   float64\n",
      " 6   ms_location        0 non-null      float64\n",
      " 7   caller_msisdn      1000 non-null   object \n",
      " 8   corresp_msisdn     1000 non-null   object \n",
      "dtypes: float64(2), int64(3), object(4)\n",
      "memory usage: 70.4+ KB\n"
     ]
    }
   ],
   "source": [
    "df['caller_msisdn'] = df['msisdn']\n",
    "df['corresp_msisdn'] = df['msisdn'].sample(frac=1).reset_index(drop=True) # Shuffle initial id\n",
    "df.drop(columns='msisdn', inplace=True)\n",
    "df.info()"
   ]
  },
  {
   "cell_type": "code",
   "execution_count": 12,
   "id": "b2aa2529",
   "metadata": {},
   "outputs": [],
   "source": [
    "df.to_csv('../data/voix_sms/voixsms-v02.csv')"
   ]
  },
  {
   "cell_type": "code",
   "execution_count": null,
   "id": "0d1c86db",
   "metadata": {},
   "outputs": [],
   "source": []
  }
 ],
 "metadata": {
  "kernelspec": {
   "display_name": "Python 3 (ipykernel)",
   "language": "python",
   "name": "python3"
  },
  "language_info": {
   "codemirror_mode": {
    "name": "ipython",
    "version": 3
   },
   "file_extension": ".py",
   "mimetype": "text/x-python",
   "name": "python",
   "nbconvert_exporter": "python",
   "pygments_lexer": "ipython3",
   "version": "3.9.13"
  }
 },
 "nbformat": 4,
 "nbformat_minor": 5
}
