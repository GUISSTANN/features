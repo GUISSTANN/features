{
 "cells": [
  {
   "cell_type": "code",
   "id": "initial_id",
   "metadata": {
    "ExecuteTime": {
     "end_time": "2024-05-04T04:42:39.452203Z",
     "start_time": "2024-05-04T04:42:39.450282Z"
    }
   },
   "source": [
    "import pandas as pd"
   ],
   "outputs": [],
   "execution_count": 68
  },
  {
   "cell_type": "code",
   "id": "99b84f7a-2e0c-4d11-b9ac-82d9d1b81abd",
   "metadata": {
    "ExecuteTime": {
     "end_time": "2024-05-04T04:42:39.652781Z",
     "start_time": "2024-05-04T04:42:39.646939Z"
    }
   },
   "source": "df = pd.read_csv(\"../data/voix_sms/voix_sms_onnet.csv\", sep=',')",
   "outputs": [],
   "execution_count": 69
  },
  {
   "cell_type": "code",
   "id": "befde4d0-9a51-4230-8437-193afa937daa",
   "metadata": {
    "ExecuteTime": {
     "end_time": "2024-05-04T04:42:39.748986Z",
     "start_time": "2024-05-04T04:42:39.744461Z"
    }
   },
   "source": [
    "df.head()"
   ],
   "outputs": [
    {
     "data": {
      "text/plain": [
       "   Unnamed: 0 traffic_type traffic_direction  \\\n",
       "0         521         VOIX           SORTANT   \n",
       "1         737         VOIX           ENTRANT   \n",
       "2         740         VOIX           ENTRANT   \n",
       "3         660         VOIX           SORTANT   \n",
       "4         411         VOIX           ENTRANT   \n",
       "\n",
       "                             msisdn  call_date  call_time  duree  \\\n",
       "0  5634d3960f5dbf326b2eb01e1cf66124   20210720     180146  182.0   \n",
       "1  a0c8f562a4abc89230b30a30409f69bc   20210720      72925  116.0   \n",
       "2  86b09e4ed3f30d94853e413451f1a69b   20210720     103649   39.0   \n",
       "3  b58b587be09e5c1963bf4deba19597cc   20210720     213222    2.0   \n",
       "4  907d1610586c9337c2b19b00eca3bc79   20210720     230420  287.0   \n",
       "\n",
       "          ms_location  \n",
       "0  608-01-09020-30101  \n",
       "1  608-01-09040-25025  \n",
       "2  608-01-09028-02017  \n",
       "3  608-01-09000-36753  \n",
       "4  608-01-09000-03947  "
      ],
      "text/html": [
       "<div>\n",
       "<style scoped>\n",
       "    .dataframe tbody tr th:only-of-type {\n",
       "        vertical-align: middle;\n",
       "    }\n",
       "\n",
       "    .dataframe tbody tr th {\n",
       "        vertical-align: top;\n",
       "    }\n",
       "\n",
       "    .dataframe thead th {\n",
       "        text-align: right;\n",
       "    }\n",
       "</style>\n",
       "<table border=\"1\" class=\"dataframe\">\n",
       "  <thead>\n",
       "    <tr style=\"text-align: right;\">\n",
       "      <th></th>\n",
       "      <th>Unnamed: 0</th>\n",
       "      <th>traffic_type</th>\n",
       "      <th>traffic_direction</th>\n",
       "      <th>msisdn</th>\n",
       "      <th>call_date</th>\n",
       "      <th>call_time</th>\n",
       "      <th>duree</th>\n",
       "      <th>ms_location</th>\n",
       "    </tr>\n",
       "  </thead>\n",
       "  <tbody>\n",
       "    <tr>\n",
       "      <th>0</th>\n",
       "      <td>521</td>\n",
       "      <td>VOIX</td>\n",
       "      <td>SORTANT</td>\n",
       "      <td>5634d3960f5dbf326b2eb01e1cf66124</td>\n",
       "      <td>20210720</td>\n",
       "      <td>180146</td>\n",
       "      <td>182.0</td>\n",
       "      <td>608-01-09020-30101</td>\n",
       "    </tr>\n",
       "    <tr>\n",
       "      <th>1</th>\n",
       "      <td>737</td>\n",
       "      <td>VOIX</td>\n",
       "      <td>ENTRANT</td>\n",
       "      <td>a0c8f562a4abc89230b30a30409f69bc</td>\n",
       "      <td>20210720</td>\n",
       "      <td>72925</td>\n",
       "      <td>116.0</td>\n",
       "      <td>608-01-09040-25025</td>\n",
       "    </tr>\n",
       "    <tr>\n",
       "      <th>2</th>\n",
       "      <td>740</td>\n",
       "      <td>VOIX</td>\n",
       "      <td>ENTRANT</td>\n",
       "      <td>86b09e4ed3f30d94853e413451f1a69b</td>\n",
       "      <td>20210720</td>\n",
       "      <td>103649</td>\n",
       "      <td>39.0</td>\n",
       "      <td>608-01-09028-02017</td>\n",
       "    </tr>\n",
       "    <tr>\n",
       "      <th>3</th>\n",
       "      <td>660</td>\n",
       "      <td>VOIX</td>\n",
       "      <td>SORTANT</td>\n",
       "      <td>b58b587be09e5c1963bf4deba19597cc</td>\n",
       "      <td>20210720</td>\n",
       "      <td>213222</td>\n",
       "      <td>2.0</td>\n",
       "      <td>608-01-09000-36753</td>\n",
       "    </tr>\n",
       "    <tr>\n",
       "      <th>4</th>\n",
       "      <td>411</td>\n",
       "      <td>VOIX</td>\n",
       "      <td>ENTRANT</td>\n",
       "      <td>907d1610586c9337c2b19b00eca3bc79</td>\n",
       "      <td>20210720</td>\n",
       "      <td>230420</td>\n",
       "      <td>287.0</td>\n",
       "      <td>608-01-09000-03947</td>\n",
       "    </tr>\n",
       "  </tbody>\n",
       "</table>\n",
       "</div>"
      ]
     },
     "execution_count": 70,
     "metadata": {},
     "output_type": "execute_result"
    }
   ],
   "execution_count": 70
  },
  {
   "cell_type": "code",
   "id": "51ad5814-a977-4f75-994e-e2cce3607c20",
   "metadata": {
    "ExecuteTime": {
     "end_time": "2024-05-04T04:42:39.933658Z",
     "start_time": "2024-05-04T04:42:39.931181Z"
    }
   },
   "source": [
    "df.rename(columns={'duree':'duration', 'msisdn':'caller_id', 'traffic_type': 'txn_type', 'ms_location': 'caller_antenna'}, inplace=True)"
   ],
   "outputs": [],
   "execution_count": 71
  },
  {
   "cell_type": "code",
   "id": "c54f0a92-68ff-458d-9d7e-416fe9603d86",
   "metadata": {
    "scrolled": true,
    "ExecuteTime": {
     "end_time": "2024-05-04T04:42:40.015475Z",
     "start_time": "2024-05-04T04:42:40.010629Z"
    }
   },
   "source": [
    "df.head()"
   ],
   "outputs": [
    {
     "data": {
      "text/plain": [
       "   Unnamed: 0 txn_type traffic_direction                         caller_id  \\\n",
       "0         521     VOIX           SORTANT  5634d3960f5dbf326b2eb01e1cf66124   \n",
       "1         737     VOIX           ENTRANT  a0c8f562a4abc89230b30a30409f69bc   \n",
       "2         740     VOIX           ENTRANT  86b09e4ed3f30d94853e413451f1a69b   \n",
       "3         660     VOIX           SORTANT  b58b587be09e5c1963bf4deba19597cc   \n",
       "4         411     VOIX           ENTRANT  907d1610586c9337c2b19b00eca3bc79   \n",
       "\n",
       "   call_date  call_time  duration      caller_antenna  \n",
       "0   20210720     180146     182.0  608-01-09020-30101  \n",
       "1   20210720      72925     116.0  608-01-09040-25025  \n",
       "2   20210720     103649      39.0  608-01-09028-02017  \n",
       "3   20210720     213222       2.0  608-01-09000-36753  \n",
       "4   20210720     230420     287.0  608-01-09000-03947  "
      ],
      "text/html": [
       "<div>\n",
       "<style scoped>\n",
       "    .dataframe tbody tr th:only-of-type {\n",
       "        vertical-align: middle;\n",
       "    }\n",
       "\n",
       "    .dataframe tbody tr th {\n",
       "        vertical-align: top;\n",
       "    }\n",
       "\n",
       "    .dataframe thead th {\n",
       "        text-align: right;\n",
       "    }\n",
       "</style>\n",
       "<table border=\"1\" class=\"dataframe\">\n",
       "  <thead>\n",
       "    <tr style=\"text-align: right;\">\n",
       "      <th></th>\n",
       "      <th>Unnamed: 0</th>\n",
       "      <th>txn_type</th>\n",
       "      <th>traffic_direction</th>\n",
       "      <th>caller_id</th>\n",
       "      <th>call_date</th>\n",
       "      <th>call_time</th>\n",
       "      <th>duration</th>\n",
       "      <th>caller_antenna</th>\n",
       "    </tr>\n",
       "  </thead>\n",
       "  <tbody>\n",
       "    <tr>\n",
       "      <th>0</th>\n",
       "      <td>521</td>\n",
       "      <td>VOIX</td>\n",
       "      <td>SORTANT</td>\n",
       "      <td>5634d3960f5dbf326b2eb01e1cf66124</td>\n",
       "      <td>20210720</td>\n",
       "      <td>180146</td>\n",
       "      <td>182.0</td>\n",
       "      <td>608-01-09020-30101</td>\n",
       "    </tr>\n",
       "    <tr>\n",
       "      <th>1</th>\n",
       "      <td>737</td>\n",
       "      <td>VOIX</td>\n",
       "      <td>ENTRANT</td>\n",
       "      <td>a0c8f562a4abc89230b30a30409f69bc</td>\n",
       "      <td>20210720</td>\n",
       "      <td>72925</td>\n",
       "      <td>116.0</td>\n",
       "      <td>608-01-09040-25025</td>\n",
       "    </tr>\n",
       "    <tr>\n",
       "      <th>2</th>\n",
       "      <td>740</td>\n",
       "      <td>VOIX</td>\n",
       "      <td>ENTRANT</td>\n",
       "      <td>86b09e4ed3f30d94853e413451f1a69b</td>\n",
       "      <td>20210720</td>\n",
       "      <td>103649</td>\n",
       "      <td>39.0</td>\n",
       "      <td>608-01-09028-02017</td>\n",
       "    </tr>\n",
       "    <tr>\n",
       "      <th>3</th>\n",
       "      <td>660</td>\n",
       "      <td>VOIX</td>\n",
       "      <td>SORTANT</td>\n",
       "      <td>b58b587be09e5c1963bf4deba19597cc</td>\n",
       "      <td>20210720</td>\n",
       "      <td>213222</td>\n",
       "      <td>2.0</td>\n",
       "      <td>608-01-09000-36753</td>\n",
       "    </tr>\n",
       "    <tr>\n",
       "      <th>4</th>\n",
       "      <td>411</td>\n",
       "      <td>VOIX</td>\n",
       "      <td>ENTRANT</td>\n",
       "      <td>907d1610586c9337c2b19b00eca3bc79</td>\n",
       "      <td>20210720</td>\n",
       "      <td>230420</td>\n",
       "      <td>287.0</td>\n",
       "      <td>608-01-09000-03947</td>\n",
       "    </tr>\n",
       "  </tbody>\n",
       "</table>\n",
       "</div>"
      ]
     },
     "execution_count": 72,
     "metadata": {},
     "output_type": "execute_result"
    }
   ],
   "execution_count": 72
  },
  {
   "cell_type": "code",
   "id": "0fc0e810-4d76-4d9a-8df5-d1eb039c3d90",
   "metadata": {
    "ExecuteTime": {
     "end_time": "2024-05-04T04:42:40.166824Z",
     "start_time": "2024-05-04T04:42:40.163651Z"
    }
   },
   "source": [
    "df['international'] = 'domestic'\n",
    "df['recipient_id'] = ''\n",
    "df['timestamp'] = df['call_date'].astype(str) + df['call_time'].astype(str)"
   ],
   "outputs": [],
   "execution_count": 73
  },
  {
   "cell_type": "code",
   "id": "ef263971-4c95-4447-9922-638f4ab1eeac",
   "metadata": {
    "ExecuteTime": {
     "end_time": "2024-05-04T04:42:40.282557Z",
     "start_time": "2024-05-04T04:42:40.279804Z"
    }
   },
   "source": [
    "df['txn_type'].replace({'VOIX':'call', 'SMS':'text'}, inplace=True)"
   ],
   "outputs": [
    {
     "name": "stderr",
     "output_type": "stream",
     "text": [
      "/var/folders/vj/yn7fm0mn7611q4mgvxm7jybm0000gn/T/ipykernel_79784/2394563536.py:1: FutureWarning: A value is trying to be set on a copy of a DataFrame or Series through chained assignment using an inplace method.\n",
      "The behavior will change in pandas 3.0. This inplace method will never work because the intermediate object on which we are setting values always behaves as a copy.\n",
      "\n",
      "For example, when doing 'df[col].method(value, inplace=True)', try using 'df.method({col: value}, inplace=True)' or df[col] = df[col].method(value) instead, to perform the operation inplace on the original object.\n",
      "\n",
      "\n",
      "  df['txn_type'].replace({'VOIX':'call', 'SMS':'text'}, inplace=True)\n"
     ]
    }
   ],
   "execution_count": 74
  },
  {
   "cell_type": "code",
   "id": "139a10e0-d896-4b16-93e4-6a6c812ff527",
   "metadata": {
    "ExecuteTime": {
     "end_time": "2024-05-04T04:42:40.578783Z",
     "start_time": "2024-05-04T04:42:40.575015Z"
    }
   },
   "source": "df.dropna(subset=[\"txn_type\",'international'], inplace=True)",
   "outputs": [],
   "execution_count": 75
  },
  {
   "metadata": {
    "ExecuteTime": {
     "end_time": "2024-05-04T04:42:40.768594Z",
     "start_time": "2024-05-04T04:42:40.766105Z"
    }
   },
   "cell_type": "code",
   "source": "df.drop(df.columns[0:1], axis=1, inplace=True)",
   "id": "ab9ef004997f2ba4",
   "outputs": [],
   "execution_count": 76
  },
  {
   "cell_type": "code",
   "id": "b7ee7ef7-d44f-4441-be65-1687a70e1147",
   "metadata": {
    "ExecuteTime": {
     "end_time": "2024-05-04T04:42:41.107475Z",
     "start_time": "2024-05-04T04:42:41.101992Z"
    }
   },
   "source": "df.to_csv('../data/voix_sms/voix_sms_onnet_cider.csv', sep=\",\")",
   "outputs": [],
   "execution_count": 77
  },
  {
   "metadata": {
    "ExecuteTime": {
     "end_time": "2024-05-04T04:42:41.322116Z",
     "start_time": "2024-05-04T04:42:41.318066Z"
    }
   },
   "cell_type": "code",
   "source": [
    "import pyspark\n",
    "spark = pyspark.sql.SparkSession.builder.appName('voix_sms').getOrCreate()"
   ],
   "id": "bee88ddd9bd466c6",
   "outputs": [],
   "execution_count": 78
  },
  {
   "metadata": {
    "ExecuteTime": {
     "end_time": "2024-05-04T04:42:41.581249Z",
     "start_time": "2024-05-04T04:42:41.505857Z"
    }
   },
   "cell_type": "code",
   "source": "df_import = spark.read.csv('../data/voix_sms/voix_sms_onnet_cider.csv', header=True)",
   "id": "66092b78b6afbca4",
   "outputs": [],
   "execution_count": 79
  },
  {
   "metadata": {
    "ExecuteTime": {
     "end_time": "2024-05-04T04:42:41.716566Z",
     "start_time": "2024-05-04T04:42:41.668270Z"
    }
   },
   "cell_type": "code",
   "source": "df_import.filter(df_import.international.isNull()).head()",
   "id": "bb0fe0c5594f0657",
   "outputs": [
    {
     "name": "stderr",
     "output_type": "stream",
     "text": [
      "24/05/04 12:42:41 WARN CSVHeaderChecker: CSV header does not conform to the schema.\n",
      " Header: , txn_type, traffic_direction, caller_id, call_date, call_time, duration, caller_antenna, international, recipient_id, timestamp\n",
      " Schema: _c0, txn_type, traffic_direction, caller_id, call_date, call_time, duration, caller_antenna, international, recipient_id, timestamp\n",
      "Expected: _c0 but found: \n",
      "CSV file: file:///Users/cyruspellet/Downloads/features/data/voix_sms/voix_sms_onnet_cider.csv\n"
     ]
    }
   ],
   "execution_count": 80
  },
  {
   "metadata": {},
   "cell_type": "code",
   "outputs": [],
   "execution_count": null,
   "source": "",
   "id": "2bb72f7e47b91154"
  }
 ],
 "metadata": {
  "kernelspec": {
   "display_name": "Python 3 (ipykernel)",
   "language": "python",
   "name": "python3"
  },
  "language_info": {
   "codemirror_mode": {
    "name": "ipython",
    "version": 3
   },
   "file_extension": ".py",
   "mimetype": "text/x-python",
   "name": "python",
   "nbconvert_exporter": "python",
   "pygments_lexer": "ipython3",
   "version": "3.9.19"
  }
 },
 "nbformat": 4,
 "nbformat_minor": 5
}
